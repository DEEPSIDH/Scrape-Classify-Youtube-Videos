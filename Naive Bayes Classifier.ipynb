{
 "cells": [
  {
   "cell_type": "code",
   "execution_count": 1,
   "metadata": {},
   "outputs": [],
   "source": [
    "import re\n",
    "import pandas as pd\n",
    "import nltk\n",
    "from nltk.corpus import stopwords\n",
    "des=pd.read_csv('final_scraped.csv')\n",
    "des.dropna(inplace=True)"
   ]
  },
  {
   "cell_type": "code",
   "execution_count": 2,
   "metadata": {},
   "outputs": [],
   "source": [
    "import matplotlib.pyplot as plt"
   ]
  },
  {
   "cell_type": "code",
   "execution_count": 3,
   "metadata": {},
   "outputs": [],
   "source": [
    "def text_process(mess):\n",
    "    import string\n",
    "    \"\"\"\n",
    "    Takes in a string of text, then performs the following:\n",
    "    1. Remove all punctuation\n",
    "    2. Remove all stopwords\n",
    "    3. Returns a list of the cleaned text\n",
    "    \"\"\"\n",
    "    # Check characters to see if they are in punctuation\n",
    "    nopunc = [char for char in mess if char not in string.punctuation]\n",
    "\n",
    "    # Join the characters again to form the string.\n",
    "    nopunc = ''.join(nopunc)\n",
    "    \n",
    "    # Now just remove any stopwords\n",
    "    return [word for word in nopunc.split() if word.lower() not in stopwords.words('english')]\n",
    "    "
   ]
  },
  {
   "cell_type": "code",
   "execution_count": 4,
   "metadata": {},
   "outputs": [
    {
     "data": {
      "text/plain": [
       "0        The journey to Arunachal, North East India beg...\n",
       "1        //goo.gl/Frwci2 If you have any other query fe...\n",
       "2        I had the chance to fly out to Bali with my wh...\n",
       "3                                                      ...\n",
       "4        Travel blogger, Nikki Vargas, of The Pin the M...\n",
       "5        In this video I explored North East India, sta...\n",
       "6        Lisbon very quickly became one of my favourite...\n",
       "7        Welcome to Peru! This essential travel guide w...\n",
       "8        so finally the vlog is up . this is just a bri...\n",
       "9        //bit.ly/top-travel-cards-2019 _Click \"Show Mo...\n",
       "10                                                     ...\n",
       "11                                                     ...\n",
       "12       My wife and I traveled to 17 countries in 200 ...\n",
       "13       //youtu.be/Xdya8eym9nM Huge thank you to Ali, ...\n",
       "14       With your trip just ahead, it's time to learn ...\n",
       "15       Come along on a week in Paris with me! I meant...\n",
       "16       //bit.ly/guida-viaggiare-gratis ▽▽ Espandi la ...\n",
       "17       VLOG CARAIBI ANTIGUA SETTEMBRE 2017 ❤ | ISCRIV...\n",
       "18       //tourist2townie.com/make-money/work-and-trave...\n",
       "19       XO LIKE AND SUBSCRIBE IF THIS WAS USEFUL XO Wh...\n",
       "20       Foodie adventures from my most recent trip to ...\n",
       "21       Back at the Surfing Capital of the Philippines...\n",
       "22       Mykonos is such a magical place! It's beautifu...\n",
       "23       Here's a comprehensive Hong Kong travel guide ...\n",
       "24       If you've ever dreamed of traveling full time ...\n",
       "25                                                     ...\n",
       "26       This place is amazing. Go to El Nido, Palawan,...\n",
       "27       After graduating school I had no idea what to ...\n",
       "28       I made my way to The Floating City of Venice l...\n",
       "29       //www.instagram.com/ellenextdoor/ Hi everyone,...\n",
       "                               ...                        \n",
       "11970                                                  ...\n",
       "11971    Thanks for watching my Art Book Unboxing and S...\n",
       "11972    Learn How To Draw Luigi 16-Bit Pixel Art. Nint...\n",
       "11973                                                  ...\n",
       "11974    www.pixiedust.be with video's from Disneyland ...\n",
       "11976                                                  ...\n",
       "11977    The mystery around Premiere continues to grow....\n",
       "11978                                                  ...\n",
       "11979    //goo.gl/UyZJL1 Number 1 Family games - Best C...\n",
       "11980    LUCY Giận mình rồi các bạn ơi ..... ----------...\n",
       "11981    Mini World Block Art Gameplay en Español, enco...\n",
       "11982                                                  ...\n",
       "11983    //globalsugarart.com Chef Alan shows you how t...\n",
       "11984    The video shows one of the Top Attractions of ...\n",
       "11985                      Emma Cammack. About the WBF ...\n",
       "11986    Watch britain's dynamic museum & art gallery b...\n",
       "11987    If you've been shipping or receiving lots of p...\n",
       "11988    //www.studentartguide.com/featured/igcse-art-e...\n",
       "11989    9 East 82nd Street, #3A, New York, NY 10028 Fo...\n",
       "11990             Watch, Learn, Like, Subscribe and Enjoy.\n",
       "11991    Take a tour around all of the themed wings at ...\n",
       "11992    We're streaming Monster Hunter World while one...\n",
       "11993                              //youtu.be/JS3gDzUIiAA.\n",
       "11994    Dr. Parme Giuntini, Director of Art History at...\n",
       "11995    Step into the world of dance for a semester of...\n",
       "11996    Learn about the Global Business and Digital Ar...\n",
       "11997    March 2017 - Disney Transport's New Flyer Arti...\n",
       "11998         //en.mini1.cn/ nhớ tải nếu ko được hỏi mình.\n",
       "11999    Learn to make a paper serving plate! Every Tue...\n",
       "12000    Watch Future of Watercraft collection of ancie...\n",
       "Name: Description, Length: 11391, dtype: object"
      ]
     },
     "execution_count": 4,
     "metadata": {},
     "output_type": "execute_result"
    }
   ],
   "source": [
    "from nltk.stem import WordNetLemmatizer  \n",
    "wordnet_lemmatizer=WordNetLemmatizer()\n",
    "des['Description'].apply(lambda x: wordnet_lemmatizer.lemmatize(x))\n",
    "des['Description'].apply(text_process)\n",
    "des['Description'].replace('^.*:\\s*(.*)', r'\\1', regex=True)"
   ]
  },
  {
   "cell_type": "code",
   "execution_count": 5,
   "metadata": {},
   "outputs": [],
   "source": [
    "from sklearn.feature_extraction.text import CountVectorizer\n"
   ]
  },
  {
   "cell_type": "code",
   "execution_count": 6,
   "metadata": {},
   "outputs": [],
   "source": [
    "bow_transformer = CountVectorizer(analyzer=text_process).fit(des['Description'])"
   ]
  },
  {
   "cell_type": "code",
   "execution_count": 7,
   "metadata": {},
   "outputs": [],
   "source": [
    "vids_bow = bow_transformer.transform(des['Description'])"
   ]
  },
  {
   "cell_type": "code",
   "execution_count": 8,
   "metadata": {},
   "outputs": [],
   "source": [
    "from sklearn.feature_extraction.text import TfidfTransformer\n",
    "\n",
    "tfidf_transformer = TfidfTransformer().fit(vids_bow)\n"
   ]
  },
  {
   "cell_type": "code",
   "execution_count": 9,
   "metadata": {},
   "outputs": [],
   "source": [
    "vids_tfidf = tfidf_transformer.transform(vids_bow)"
   ]
  },
  {
   "cell_type": "code",
   "execution_count": 10,
   "metadata": {},
   "outputs": [],
   "source": [
    "from sklearn.model_selection import train_test_split\n",
    "X=vids_tfidf\n",
    "y=des['Category']\n",
    "X_train, X_test, y_train, y_test = train_test_split(X, y, test_size=0.30)\n",
    "from sklearn.naive_bayes import MultinomialNB\n",
    "vid_model = MultinomialNB().fit(X_train,y_train)"
   ]
  },
  {
   "cell_type": "code",
   "execution_count": 11,
   "metadata": {},
   "outputs": [],
   "source": [
    "pred=vid_model.predict(X_test)"
   ]
  },
  {
   "cell_type": "code",
   "execution_count": 12,
   "metadata": {},
   "outputs": [
    {
     "name": "stdout",
     "output_type": "stream",
     "text": [
      "               precision    recall  f1-score   support\n",
      "\n",
      "          Art       0.84      0.72      0.77       555\n",
      "         Food       0.69      0.89      0.77       578\n",
      "      History       0.84      0.73      0.78       588\n",
      "Manufacturing       0.86      0.78      0.82       585\n",
      "      Science       0.78      0.76      0.77       564\n",
      "       Travel       0.78      0.85      0.81       548\n",
      "\n",
      "    micro avg       0.79      0.79      0.79      3418\n",
      "    macro avg       0.80      0.79      0.79      3418\n",
      " weighted avg       0.80      0.79      0.79      3418\n",
      "\n"
     ]
    }
   ],
   "source": [
    "from sklearn.metrics import classification_report\n",
    "print (classification_report(y_test,pred))\n",
    "classificationReport=(classification_report(y_test,pred))\n"
   ]
  },
  {
   "cell_type": "code",
   "execution_count": 13,
   "metadata": {},
   "outputs": [
    {
     "data": {
      "text/plain": [
       "0.9553493039006647"
      ]
     },
     "execution_count": 13,
     "metadata": {},
     "output_type": "execute_result"
    }
   ],
   "source": [
    "vid_model.score(X_train,y_train)"
   ]
  },
  {
   "cell_type": "code",
   "execution_count": 14,
   "metadata": {},
   "outputs": [
    {
     "data": {
      "text/plain": [
       "0.7881802223522528"
      ]
     },
     "execution_count": 14,
     "metadata": {},
     "output_type": "execute_result"
    }
   ],
   "source": [
    "vid_model.score(X_test,y_test)"
   ]
  },
  {
   "cell_type": "code",
   "execution_count": 15,
   "metadata": {},
   "outputs": [
    {
     "data": {
      "image/png": "[encoded data removed]",
      "text/plain": [
       "<Figure size 432x288 with 2 Axes>"
      ]
     },
     "metadata": {
      "needs_background": "light"
     },
     "output_type": "display_data"
    }
   ],
   "source": [
    "import matplotlib.pyplot as plt\n",
    "import numpy as np\n",
    "import itertools\n",
    "\n",
    "\n",
    "def plot_classification_report(classificationReport,\n",
    "                               title='Classification report',\n",
    "                               cmap='RdBu'):\n",
    "\n",
    "    classificationReport = classificationReport.replace('\\n\\n', '\\n')\n",
    "    classificationReport = classificationReport.replace(' / ', '/')\n",
    "    lines = classificationReport.split('\\n')\n",
    "\n",
    "    classes, plotMat, support, class_names = [], [], [], []\n",
    "    for line in lines[1:-4]:  # if you don't want avg/total result, then change [1:] into [1:-1]\n",
    "        t = line.strip().split()\n",
    "        if len(t) < 2:\n",
    "            continue\n",
    "        classes.append(t[0])\n",
    "        v = [float(x) for x in t[1: len(t) - 1]]\n",
    "        support.append(int(t[-1]))\n",
    "        class_names.append(t[0])\n",
    "        plotMat.append(v)\n",
    "\n",
    "    plotMat = np.array(plotMat)\n",
    "    xticklabels = ['Precision', 'Recall', 'F1-score']\n",
    "    yticklabels = ['{0} ({1})'.format(class_names[idx], sup)\n",
    "                   for idx, sup in enumerate(support)]\n",
    "\n",
    "    plt.imshow(plotMat, interpolation='nearest', cmap=cmap, aspect='auto')\n",
    "    plt.title(title)\n",
    "    plt.colorbar()\n",
    "    plt.xticks(np.arange(3), xticklabels, rotation=45)\n",
    "    plt.yticks(np.arange(len(classes)), yticklabels)\n",
    "\n",
    "    upper_thresh = plotMat.min() + (plotMat.max() - plotMat.min()) / 10 * 8\n",
    "    lower_thresh = plotMat.min() + (plotMat.max() - plotMat.min()) / 10 * 2\n",
    "    for i, j in itertools.product(range(plotMat.shape[0]), range(plotMat.shape[1])):\n",
    "        plt.text(j, i, format(plotMat[i, j], '.2f'),\n",
    "                 horizontalalignment=\"center\",\n",
    "                 color=\"white\" if (plotMat[i, j] > upper_thresh or plotMat[i, j] < lower_thresh) else \"black\")\n",
    "\n",
    "    plt.ylabel('Metrics')\n",
    "    plt.xlabel('Classes')\n",
    "    plt.tight_layout()\n",
    "\n",
    "\n",
    "def main():\n",
    "\n",
    "    sampleClassificationReport =(classification_report(y_test,pred))\n",
    "\n",
    "    plot_classification_report(sampleClassificationReport)\n",
    "    plt.show()\n",
    "    plt.close()\n",
    "\n",
    "\n",
    "if __name__ == '__main__':\n",
    "    main()"
   ]
  },
  {
   "cell_type": "code",
   "execution_count": null,
   "metadata": {},
   "outputs": [],
   "source": []
  }
 ],
 "metadata": {
  "kernelspec": {
   "display_name": "Python 3",
   "language": "python",
   "name": "python3"
  },
  "language_info": {
   "codemirror_mode": {
    "name": "ipython",
    "version": 3
   },
   "file_extension": ".py",
   "mimetype": "text/x-python",
   "name": "python",
   "nbconvert_exporter": "python",
   "pygments_lexer": "ipython3",
   "version": "3.6.8"
  }
 },
 "nbformat": 4,
 "nbformat_minor": 2
}
