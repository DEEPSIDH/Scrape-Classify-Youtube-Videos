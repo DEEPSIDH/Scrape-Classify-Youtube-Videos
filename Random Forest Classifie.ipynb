{
 "cells": [
  {
   "cell_type": "code",
   "execution_count": 1,
   "metadata": {},
   "outputs": [],
   "source": [
    "import matplotlib.pyplot as plt\n",
    "import seaborn as sns\n",
    "%matplotlib inline\n",
    "import re\n",
    "import pandas as pd\n",
    "import nltk\n",
    "from nltk.corpus import stopwords\n",
    "des=pd.read_csv('final_scraped.csv')"
   ]
  },
  {
   "cell_type": "code",
   "execution_count": 2,
   "metadata": {},
   "outputs": [],
   "source": [
    "des.dropna(inplace=True)"
   ]
  },
  {
   "cell_type": "code",
   "execution_count": 3,
   "metadata": {},
   "outputs": [],
   "source": [
    "def text_process(mess):\n",
    "    import string\n",
    "    \"\"\"\n",
    "    Takes in a string of text, then performs the following:\n",
    "    1. Remove all punctuation\n",
    "    2. Remove all stopwords\n",
    "    3. Returns a list of the cleaned text\n",
    "    \"\"\"\n",
    "    # Check characters to see if they are in punctuation\n",
    "    nopunc = [char for char in mess if char not in string.punctuation]\n",
    "\n",
    "    # Join the characters again to form the string.\n",
    "    nopunc = ''.join(nopunc)\n",
    "    \n",
    "    # Now just remove any stopwords\n",
    "    return [word for word in nopunc.split() if word.lower() not in stopwords.words('english')]"
   ]
  },
  {
   "cell_type": "code",
   "execution_count": 4,
   "metadata": {},
   "outputs": [
    {
     "data": {
      "text/plain": [
       "0        [journey, Arunachal, North, East, India, begin...\n",
       "1        [SUBSCRIBE, httpsgoogldEtSMJ, MountainTrekker,...\n",
       "2        [chance, fly, Bali, whole, family, Thanksgivin...\n",
       "3        [Hope, enjoy, GOA, TRAVEL, DIARY, video, Dont,...\n",
       "4        [Travel, blogger, Nikki, Vargas, Pin, Map, Pro...\n",
       "5        [video, explored, North, East, India, starting...\n",
       "6        [Lisbon, quickly, became, one, favourite, citi...\n",
       "7        [Welcome, Peru, essential, travel, guide, show...\n",
       "8        [finally, vlog, brief, video, bhutan, uploadin...\n",
       "9        [Create, Travel, Blog, Website, 395, httpbitly...\n",
       "10       [travel, Peru, Machu, Picchu, Puno, Huacachina...\n",
       "11       [Thank, much, watching, hope, found, travel, o...\n",
       "12       [wife, traveled, 17, countries, 200, days, fil...\n",
       "13       [Subscribe, httpsgoogl6zXZGK, Watch, full, ser...\n",
       "14       [trip, ahead, time, learn, make, travel, video...\n",
       "15       [Come, along, week, Paris, meant, post, little...\n",
       "16       [SCARICA, LA, GUIDA, GRATUITA, PER, VIAGGIARE,...\n",
       "17       [VLOG, CARAIBI, ANTIGUA, SETTEMBRE, 2017, ❤, I...\n",
       "18       [Read, full, description, make, money, travel,...\n",
       "19       [XO, LIKE, SUBSCRIBE, USEFUL, XO, researching,...\n",
       "20       [Foodie, adventures, recent, trip, Goa, includ...\n",
       "21       [Back, Surfing, Capital, Philippines, Siargao,...\n",
       "22       [Mykonos, magical, place, beautiful, everywher...\n",
       "23       [Heres, comprehensive, Hong, Kong, travel, gui...\n",
       "24       [youve, ever, dreamed, traveling, full, time, ...\n",
       "25       [Follow, videos, Facebook, httpwwwfacebookcomc...\n",
       "26       [place, amazing, Go, El, Nido, Palawan, book, ...\n",
       "27       [graduating, school, idea, life, became, full,...\n",
       "28       [made, way, Floating, City, Venice, last, summ...\n",
       "29       [FOLLOW, DAILY, ADVENTURES, httpswwwinstagramc...\n",
       "                               ...                        \n",
       "11970    [Full, article, httpstwinfinitenet201903sworda...\n",
       "11971    [Thanks, watching, Art, Book, Unboxing, Showca...\n",
       "11972    [Learn, Draw, Luigi, 16Bit, Pixel, Art, Ninten...\n",
       "11973    [Olena, Minina, POSA, World, Pole, Art, Champi...\n",
       "11974    [Channel, Disneyland, Paris, NR, 1, Fanwebsite...\n",
       "11976    [Hola, chicos, chicas, Hoy, les, traigo, un, n...\n",
       "11977    [mystery, around, Premiere, continues, grow, m...\n",
       "11978    [Mini, World, Những, điều, có, thể, bạn, chưa,...\n",
       "11979    [SUBSCRIBE, httpsgooglUyZJL1, Number, 1, Famil...\n",
       "11980    [LUCY, Giận, mình, rồi, các, bạn, ơi, Minecraf...\n",
       "11981    [Mini, World, Block, Art, Gameplay, en, Españo...\n",
       "11982    [FULL, DISNEY, WORLD, PLAYLIST, httpswwwyoutub...\n",
       "11983    [httpglobalsugarartcom, Chef, Alan, shows, cre...\n",
       "11984    [Metropolitan, Museum, Art, New, York, USA, vi...\n",
       "11985    [installation, art, project, World, Bodypainti...\n",
       "11986    [Watch, britains, dynamic, museum, art, galler...\n",
       "11987    [youve, shipping, receiving, lots, packages, m...\n",
       "11988    [educational, resource, Student, Art, Guide, h...\n",
       "11989    [Exhibition, Korean, Art, March, 2nd, 10th, 20...\n",
       "11990               [Watch, Learn, Like, Subscribe, Enjoy]\n",
       "11991    [Take, tour, around, themed, wings, Disneys, A...\n",
       "11992    [streaming, Monster, Hunter, World, one, us, m...\n",
       "11993    [Im, sorry, remove, music, Watch, items, short...\n",
       "11994    [Dr, Parme, Giuntini, Director, Art, History, ...\n",
       "11995    [Step, world, dance, semester, fun, Dance, Ens...\n",
       "11996    [Learn, Global, Business, Digital, Arts, GBDA,...\n",
       "11997    [March, 2017, Disney, Transports, New, Flyer, ...\n",
       "11998    [link, nè, httpenmini1cn, nhớ, tải, nếu, ko, đ...\n",
       "11999    [Learn, make, paper, serving, plate, Every, Tu...\n",
       "12000    [Watch, Future, Watercraft, collection, ancien...\n",
       "Name: Description, Length: 11391, dtype: object"
      ]
     },
     "execution_count": 4,
     "metadata": {},
     "output_type": "execute_result"
    }
   ],
   "source": [
    "from nltk.stem import WordNetLemmatizer  \n",
    "wordnet_lemmatizer=WordNetLemmatizer()\n",
    "des['Description'].apply(lambda x: wordnet_lemmatizer.lemmatize(x))\n",
    "des['Description'].apply(text_process)\n"
   ]
  },
  {
   "cell_type": "code",
   "execution_count": 5,
   "metadata": {},
   "outputs": [],
   "source": [
    "from sklearn.feature_extraction.text import CountVectorizer"
   ]
  },
  {
   "cell_type": "code",
   "execution_count": 6,
   "metadata": {},
   "outputs": [],
   "source": [
    "bow_transformer = CountVectorizer(analyzer=text_process).fit(des['Description'])"
   ]
  },
  {
   "cell_type": "code",
   "execution_count": 7,
   "metadata": {},
   "outputs": [],
   "source": [
    "vids_bow = bow_transformer.transform(des['Description'])"
   ]
  },
  {
   "cell_type": "code",
   "execution_count": 8,
   "metadata": {},
   "outputs": [],
   "source": [
    "from sklearn.feature_extraction.text import TfidfTransformer\n",
    "\n",
    "tfidf_transformer = TfidfTransformer().fit(vids_bow)\n"
   ]
  },
  {
   "cell_type": "code",
   "execution_count": 9,
   "metadata": {},
   "outputs": [],
   "source": [
    "vids_tfidf = tfidf_transformer.transform(vids_bow)"
   ]
  },
  {
   "cell_type": "code",
   "execution_count": 10,
   "metadata": {},
   "outputs": [],
   "source": [
    "from sklearn.ensemble import RandomForestClassifier\n",
    "rfc = RandomForestClassifier(n_estimators=100)"
   ]
  },
  {
   "cell_type": "code",
   "execution_count": 11,
   "metadata": {},
   "outputs": [],
   "source": [
    "from sklearn.model_selection import train_test_split\n",
    "X=vids_tfidf\n",
    "y=des['Category']"
   ]
  },
  {
   "cell_type": "code",
   "execution_count": 12,
   "metadata": {},
   "outputs": [],
   "source": [
    "X_train, X_test, y_train, y_test = train_test_split(X, y, test_size=0.30)\n"
   ]
  },
  {
   "cell_type": "code",
   "execution_count": 13,
   "metadata": {},
   "outputs": [
    {
     "data": {
      "text/plain": [
       "RandomForestClassifier(bootstrap=True, class_weight=None, criterion='gini',\n",
       "            max_depth=None, max_features='auto', max_leaf_nodes=None,\n",
       "            min_impurity_decrease=0.0, min_impurity_split=None,\n",
       "            min_samples_leaf=1, min_samples_split=2,\n",
       "            min_weight_fraction_leaf=0.0, n_estimators=100, n_jobs=None,\n",
       "            oob_score=False, random_state=None, verbose=0,\n",
       "            warm_start=False)"
      ]
     },
     "execution_count": 13,
     "metadata": {},
     "output_type": "execute_result"
    }
   ],
   "source": [
    "rfc.fit(X_train, y_train)"
   ]
  },
  {
   "cell_type": "code",
   "execution_count": 14,
   "metadata": {},
   "outputs": [],
   "source": [
    "rfc_pred = rfc.predict(X_test)"
   ]
  },
  {
   "cell_type": "code",
   "execution_count": 15,
   "metadata": {},
   "outputs": [
    {
     "name": "stdout",
     "output_type": "stream",
     "text": [
      "               precision    recall  f1-score   support\n",
      "\n",
      "          Art       0.83      0.77      0.80       564\n",
      "         Food       0.85      0.82      0.83       574\n",
      "      History       0.81      0.71      0.76       578\n",
      "Manufacturing       0.56      0.87      0.68       542\n",
      "      Science       0.83      0.67      0.74       593\n",
      "       Travel       0.85      0.77      0.81       567\n",
      "\n",
      "    micro avg       0.77      0.77      0.77      3418\n",
      "    macro avg       0.79      0.77      0.77      3418\n",
      " weighted avg       0.79      0.77      0.77      3418\n",
      "\n"
     ]
    }
   ],
   "source": [
    "from sklearn.metrics import classification_report,confusion_matrix\n",
    "print(classification_report(y_test,rfc_pred))"
   ]
  },
  {
   "cell_type": "code",
   "execution_count": 17,
   "metadata": {},
   "outputs": [
    {
     "data": {
      "image/png": "[encoded data removed]",
      "text/plain": [
       "<Figure size 432x288 with 2 Axes>"
      ]
     },
     "metadata": {
      "needs_background": "light"
     },
     "output_type": "display_data"
    }
   ],
   "source": [
    "import matplotlib.pyplot as plt\n",
    "import numpy as np\n",
    "import itertools\n",
    "\n",
    "\n",
    "def plot_classification_report(classificationReport,\n",
    "                               title='Classification report',\n",
    "                               cmap='RdBu'):\n",
    "\n",
    "    classificationReport = classificationReport.replace('\\n\\n', '\\n')\n",
    "    classificationReport = classificationReport.replace(' / ', '/')\n",
    "    lines = classificationReport.split('\\n')\n",
    "\n",
    "    classes, plotMat, support, class_names = [], [], [], []\n",
    "    for line in lines[1:-4]: \n",
    "        t = line.strip().split()\n",
    "        if len(t) < 2:\n",
    "            continue\n",
    "        classes.append(t[0])\n",
    "        v = [float(x) for x in t[1: len(t) - 1]]\n",
    "        support.append(int(t[-1]))\n",
    "        class_names.append(t[0])\n",
    "        plotMat.append(v)\n",
    "\n",
    "    plotMat = np.array(plotMat)\n",
    "    xticklabels = ['Precision', 'Recall', 'F1-score']\n",
    "    yticklabels = ['{0} ({1})'.format(class_names[idx], sup)\n",
    "                   for idx, sup in enumerate(support)]\n",
    "\n",
    "    plt.imshow(plotMat, interpolation='nearest', cmap=cmap, aspect='auto')\n",
    "    plt.title(title)\n",
    "    plt.colorbar()\n",
    "    plt.xticks(np.arange(3), xticklabels, rotation=45)\n",
    "    plt.yticks(np.arange(len(classes)), yticklabels)\n",
    "\n",
    "    upper_thresh = plotMat.min() + (plotMat.max() - plotMat.min()) / 10 * 8\n",
    "    lower_thresh = plotMat.min() + (plotMat.max() - plotMat.min()) / 10 * 2\n",
    "    for i, j in itertools.product(range(plotMat.shape[0]), range(plotMat.shape[1])):\n",
    "        plt.text(j, i, format(plotMat[i, j], '.2f'),\n",
    "                 horizontalalignment=\"center\",\n",
    "                 color=\"white\" if (plotMat[i, j] > upper_thresh or plotMat[i, j] < lower_thresh) else \"black\")\n",
    "\n",
    "    plt.ylabel('Metrics')\n",
    "    plt.xlabel('Classes')\n",
    "    plt.tight_layout()\n",
    "\n",
    "\n",
    "def main():\n",
    "\n",
    "    sampleClassificationReport =(classification_report(y_test,rfc_pred))\n",
    "\n",
    "    plot_classification_report(sampleClassificationReport)\n",
    "    plt.show()\n",
    "    plt.close()\n",
    "\n",
    "\n",
    "if __name__ == '__main__':\n",
    "    main()"
   ]
  },
  {
   "cell_type": "code",
   "execution_count": null,
   "metadata": {},
   "outputs": [],
   "source": []
  }
 ],
 "metadata": {
  "kernelspec": {
   "display_name": "Python 3",
   "language": "python",
   "name": "python3"
  },
  "language_info": {
   "codemirror_mode": {
    "name": "ipython",
    "version": 3
   },
   "file_extension": ".py",
   "mimetype": "text/x-python",
   "name": "python",
   "nbconvert_exporter": "python",
   "pygments_lexer": "ipython3",
   "version": "3.6.8"
  }
 },
 "nbformat": 4,
 "nbformat_minor": 2
}
