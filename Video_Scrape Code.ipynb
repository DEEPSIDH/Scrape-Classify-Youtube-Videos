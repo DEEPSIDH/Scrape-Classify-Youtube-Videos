{
 "cells": [
  {
   "cell_type": "code",
   "execution_count": null,
   "metadata": {},
   "outputs": [],
   "source": [
    "#Scrape Videos' Information on Youtube through Google Youtube API V3\n",
    "\n",
    "from apiclient.discovery import build\n",
    "from apiclient.errors import HttpError\n",
    "import argparse\n",
    "import json\n",
    "import pandas as pd\n",
    "import time\n",
    "from time import sleep\n",
    "\n",
    "DEVELOPER_KEY = \"AI%$%$%$%^$%^$^$%Kxi2Vj27H60bw\" #Unique id for youtube api\n",
    "YOUTUBE_API_SERVICE_NAME = \"youtube\"\n",
    "YOUTUBE_API_VERSION = \"v3\"\n",
    "\n",
    "\n",
    "def youtube_search(q, max_results=50,order=\"relevance\", token=None, location=None, location_radius=None):\n",
    "\n",
    "  youtube = build(YOUTUBE_API_SERVICE_NAME, YOUTUBE_API_VERSION,\n",
    "    developerKey=DEVELOPER_KEY)\n",
    "\n",
    "  search_response = youtube.search().list(\n",
    "    q=q,\n",
    "    type=\"video\",\n",
    "    pageToken=token,\n",
    "    order = order,\n",
    "    part=\"id,snippet\",\n",
    "    maxResults=max_results,\n",
    "    location=location,\n",
    "    locationRadius=location_radius\n",
    "\n",
    "  ).execute()\n",
    "\n",
    "\n",
    "  videos = []\n",
    "\n",
    "  for search_result in search_response.get(\"items\", []):\n",
    "    if search_result[\"id\"][\"kind\"] == \"youtube#video\":\n",
    "      videos.append(search_result)\n",
    "  try:\n",
    "      nexttok = search_response[\"nextPageToken\"]\n",
    "      return(nexttok, videos)\n",
    "  except Exception as e:\n",
    "      nexttok = \"last_page\"\n",
    "      return(nexttok, videos)\n",
    "\n",
    "\n",
    "def geo_query(video_id):\n",
    "    youtube = build(YOUTUBE_API_SERVICE_NAME, YOUTUBE_API_VERSION,\n",
    "                    developerKey=DEVELOPER_KEY)\n",
    "\n",
    "    video_response = youtube.videos().list(\n",
    "        id=video_id,\n",
    "        part='snippet, recordingDetails, statistics'\n",
    "\n",
    "    ).execute()\n",
    "\n",
    "    return video_response\n"
   ]
  },
  {
   "cell_type": "code",
   "execution_count": null,
   "metadata": {},
   "outputs": [],
   "source": [
    "test = youtube_search(\"travel/technology/food/history/art/manufacturing\") #your any one query keyword\n",
    "\n",
    "video_dict = {'youID':[], 'title':[], 'pub_date':[]}\n",
    "\n",
    "just_json = test[1]\n",
    "len(just_json)\n",
    "\n",
    "\n",
    "for video in just_json:\n",
    "    print(video['snippet']['title'])\n",
    "\n",
    "token = test[0]\n",
    "youtube_search(\"travel/technology/food/history/art/manufacturing\", token=token)  #your query\n",
    "\n",
    "\n",
    "\n",
    "video_dict = {'Video id':[], 'Title':[], 'Description':[]}\n",
    "\n",
    "def grab_videos(keyword, token=None):\n",
    "    res = youtube_search(keyword, token=token)\n",
    "    token = res[0]\n",
    "    videos = res[1]\n",
    "    for vid in videos:\n",
    "        video_dict['Video id'].append(vid['id']['videoId'])\n",
    "        video_dict['Title'].append(vid['snippet']['title'])\n",
    "        video_dict['Description'].append(vid['snippet']['description'])\n",
    "    print (\"added \" + str(len(videos)) + \" videos to a total of \" + str(len(video_dict['Video id'])))\n",
    "    return token\n",
    "\n",
    "\n",
    "\n",
    "\n",
    "\n",
    "token = grab_videos(\"travel/technology/food/history/art/manufacturing\")\n",
    "while token != \"last_page\":\n",
    "    token = grab_videos(\"travel/technology/food/history/art/manufacturing\", token=token) #to return more than 50 results \n",
    "    time.sleep(5) "
   ]
  },
  {
   "cell_type": "code",
   "execution_count": null,
   "metadata": {},
   "outputs": [],
   "source": [
    "#Manually replace the query keyword and run the above cell\n",
    "#Every  category's query and sub queries' information is then saved into a Dataframe\n",
    "\n",
    "science_tech1/food_1/manufacturing_1/travel_1/art_1/history_1=pd.DataFrame(video_dict)\n",
    "science_tech2/food_2/manufacturing_2/travel_2/art_2/history_2=pd.DataFrame(video_dict)\n",
    "science_tech3/food_3/manufacturing_3/travel_3/art_3/history_3=pd.DataFrame(video_dict)\n",
    "science_tech4/food_4/manufacturing_4/travel_4/art_4/history_4=pd.DataFrame(video_dict)"
   ]
  },
  {
   "cell_type": "code",
   "execution_count": null,
   "metadata": {},
   "outputs": [],
   "source": [
    "science_tech_frames = [science_tech1,science_tech2,science_tech3,science_tech4]\n",
    "\n",
    "science_tech_result1 = pd.concat(science_tech_frames)\n",
    "\n",
    "final_science_tech_result1=science_tech_result1.drop_duplicates(keep=\"first\")\n",
    "\n",
    "science_tech_result1['Category']='Science and Technology'\n",
    "\n",
    "#done for every category"
   ]
  },
  {
   "cell_type": "code",
   "execution_count": null,
   "metadata": {},
   "outputs": [],
   "source": [
    "Total_frames = [final_travel_result2,final_science_tech_result2,final_final_Food_result2,final_manu_result2,final_history_result2,final_art_result2]\n",
    "\n",
    "final_scrape = pd.concat(Total_frames)"
   ]
  },
  {
   "cell_type": "code",
   "execution_count": null,
   "metadata": {},
   "outputs": [],
   "source": [
    "final_scrape.to_csv(\"final_scrape.csv\", encoding='utf-8', index=False)"
   ]
  }
 ],
 "metadata": {
  "kernelspec": {
   "display_name": "Python 3",
   "language": "python",
   "name": "python3"
  },
  "language_info": {
   "codemirror_mode": {
    "name": "ipython",
    "version": 3
   },
   "file_extension": ".py",
   "mimetype": "text/x-python",
   "name": "python",
   "nbconvert_exporter": "python",
   "pygments_lexer": "ipython3",
   "version": "3.6.8"
  }
 },
 "nbformat": 4,
 "nbformat_minor": 2
}
